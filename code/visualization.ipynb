{
  "nbformat": 4,
  "nbformat_minor": 0,
  "metadata": {
    "colab": {
      "provenance": []
    },
    "kernelspec": {
      "name": "python3",
      "display_name": "Python 3"
    },
    "language_info": {
      "name": "python"
    }
  },
  "cells": [
    {
      "cell_type": "code",
      "execution_count": 1,
      "metadata": {
        "id": "rnXZi-JUNsON"
      },
      "outputs": [],
      "source": [
        "import mylib"
      ]
    },
    {
      "cell_type": "code",
      "source": [
        "town = mylib.init_town(\"exp2_town.png\")\n",
        "datafield = mylib.upload_datafield(\"exp2_road.png\", \"exp2_river.png\", \"exp2_railway.png\")\n",
        "compressed_datafield = mylib.compress_datafield(datafield)"
      ],
      "metadata": {
        "id": "fIjHsLn0N6AJ"
      },
      "execution_count": 3,
      "outputs": []
    },
    {
      "cell_type": "code",
      "source": [
        "#Basic code\n",
        "a=mylib.run(10, town, datafield)\n",
        "mylib.draw(a)"
      ],
      "metadata": {
        "id": "FJsMh1HQOK40"
      },
      "execution_count": null,
      "outputs": []
    },
    {
      "cell_type": "code",
      "source": [
        "#Upgraded code\n",
        "a = main_run(5, town, compressed_datafield)\n",
        "draw(a)"
      ],
      "metadata": {
        "id": "BlzeU1tVOXTo"
      },
      "execution_count": null,
      "outputs": []
    }
  ]
}